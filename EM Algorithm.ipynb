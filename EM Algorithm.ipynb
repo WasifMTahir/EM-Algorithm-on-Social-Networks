{
 "cells": [
  {
   "cell_type": "code",
   "execution_count": 50,
   "metadata": {},
   "outputs": [],
   "source": [
    "import numpy as np\n",
    "from collections import defaultdict\n",
    "\n",
    "file_name = 'socialNet.sn'\n",
    "data = np.genfromtxt(file_name, dtype=str)\n",
    "network = defaultdict(list)\n",
    "omegas = []\n",
    "for row in data:\n",
    "    network[row[1]].append(row[0])\n",
    "    if row[0]=='omega':\n",
    "        omegas.append(row[1])"
   ]
  },
  {
   "cell_type": "code",
   "execution_count": 54,
   "metadata": {},
   "outputs": [],
   "source": [
    "def check_omega_parents(node):\n",
    "    yesomegas = []\n",
    "    for i in network[node]:\n",
    "        if i in omegas:\n",
    "            yesomegas.append(i)\n",
    "    return yesomegas"
   ]
  },
  {
   "cell_type": "code",
   "execution_count": 62,
   "metadata": {},
   "outputs": [],
   "source": []
  },
  {
   "cell_type": "code",
   "execution_count": null,
   "metadata": {},
   "outputs": [],
   "source": []
  },
  {
   "cell_type": "code",
   "execution_count": null,
   "metadata": {},
   "outputs": [],
   "source": []
  }
 ],
 "metadata": {
  "kernelspec": {
   "display_name": "Python [conda env:Vision]",
   "language": "python",
   "name": "conda-env-Vision-py"
  },
  "language_info": {
   "codemirror_mode": {
    "name": "ipython",
    "version": 3
   },
   "file_extension": ".py",
   "mimetype": "text/x-python",
   "name": "python",
   "nbconvert_exporter": "python",
   "pygments_lexer": "ipython3",
   "version": "3.6.6"
  }
 },
 "nbformat": 4,
 "nbformat_minor": 2
}
